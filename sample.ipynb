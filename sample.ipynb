{
 "cells": [
  {
   "cell_type": "code",
   "execution_count": 1,
   "metadata": {},
   "outputs": [],
   "source": [
    "# source: https://www.kaggle.com/lewisfogden/the-life-modelling-problem\n",
    "\n",
    "import modelx as mx\n",
    "\n",
    "space = mx.new_space(\"sample\")"
   ]
  },
  {
   "cell_type": "code",
   "execution_count": 2,
   "metadata": {},
   "outputs": [],
   "source": [
    "space.q = {\n",
    "    0: 0.001,\n",
    "    1: 0.002,\n",
    "    2: 0.003,\n",
    "    3: 0.003,\n",
    "    4: 0.004,\n",
    "    5: 0.004,\n",
    "    6: 0.005,\n",
    "    7: 0.007,\n",
    "    8: 0.009,\n",
    "    9: 0.011\n",
    "}\n",
    "\n",
    "space.w = {\n",
    "    0: 0.05,\n",
    "    1: 0.07,\n",
    "    2: 0.08,\n",
    "    3: 0.10,\n",
    "    4: 0.14,\n",
    "    5: 0.20,\n",
    "    6: 0.20,\n",
    "    7: 0.20,\n",
    "    8: 0.10,\n",
    "    9: 0.04\n",
    "}\n",
    "\n",
    "space.P = 100\n",
    "space.S = 25000\n",
    "space.T = 10"
   ]
  },
  {
   "cell_type": "code",
   "execution_count": 3,
   "metadata": {},
   "outputs": [],
   "source": [
    "@mx.defcells\n",
    "def num_in_force(t):\n",
    "    if t == 0:\n",
    "        return 1\n",
    "    elif t >= T:\n",
    "        return 0\n",
    "    else:\n",
    "        return num_in_force(t-1) - num_deaths(t-1) - num_lapses(t-1)\n",
    "\n",
    "@mx.defcells\n",
    "def num_deaths(t):\n",
    "    if t < T:\n",
    "        return num_in_force(t) * q[t]\n",
    "    else:\n",
    "        return 0\n",
    "\n",
    "@mx.defcells\n",
    "def num_lapses(t):\n",
    "    if t < T:\n",
    "        return num_in_force(t) * w[t]\n",
    "    else:\n",
    "        return 0\n",
    "\n",
    "@mx.defcells\n",
    "def claims(t):\n",
    "    return num_deaths(t) * S\n",
    "\n",
    "@mx.defcells\n",
    "def premiums(t):\n",
    "    return num_in_force(t) * P\n",
    "\n",
    "@mx.defcells\n",
    "def net_cashflow(t):\n",
    "    return premiums(t) - claims(t)"
   ]
  },
  {
   "cell_type": "code",
   "execution_count": 4,
   "metadata": {},
   "outputs": [],
   "source": [
    "\n",
    "def npv(cashflow, term, int_rate):\n",
    "    return sum(cashflow(t) / (1 + int_rate) ** (t+1) for t in range(term))\n"
   ]
  },
  {
   "cell_type": "code",
   "execution_count": 5,
   "metadata": {},
   "outputs": [
    {
     "name": "stdout",
     "output_type": "stream",
     "text": [
      "75.3 µs ± 3.35 µs per loop (mean ± std. dev. of 7 runs, 10000 loops each)\n"
     ]
    }
   ],
   "source": [
    "%timeit npv(net_cashflow, 10, 0.02)"
   ]
  },
  {
   "cell_type": "code",
   "execution_count": 6,
   "metadata": {},
   "outputs": [
    {
     "data": {
      "text/plain": [
       "50.32483075503679"
      ]
     },
     "execution_count": 6,
     "metadata": {},
     "output_type": "execute_result"
    }
   ],
   "source": [
    "npv(net_cashflow, 10, 0.02)"
   ]
  },
  {
   "cell_type": "markdown",
   "metadata": {},
   "source": [
    "## Dependency Trace"
   ]
  },
  {
   "cell_type": "code",
   "execution_count": 7,
   "metadata": {},
   "outputs": [
    {
     "data": {
      "text/plain": [
       "[Model1.sample.premiums(t=6)=49.35859623121889,\n",
       " Model1.sample.claims(t=6)=61.69824528902361]"
      ]
     },
     "execution_count": 7,
     "metadata": {},
     "output_type": "execute_result"
    }
   ],
   "source": [
    "net_cashflow.preds(6)"
   ]
  },
  {
   "cell_type": "code",
   "execution_count": 8,
   "metadata": {},
   "outputs": [
    {
     "data": {
      "text/plain": [
       "[Model1.sample.net_cashflow(t=6)=-12.33964905780472]"
      ]
     },
     "execution_count": 8,
     "metadata": {},
     "output_type": "execute_result"
    }
   ],
   "source": [
    "premiums.succs(6)"
   ]
  },
  {
   "cell_type": "markdown",
   "metadata": {},
   "source": [
    "## Vectorization"
   ]
  },
  {
   "cell_type": "code",
   "execution_count": 9,
   "metadata": {},
   "outputs": [],
   "source": [
    "import numpy as np\n",
    "\n",
    "space.np = np"
   ]
  },
  {
   "cell_type": "code",
   "execution_count": 10,
   "metadata": {},
   "outputs": [],
   "source": [
    "@mx.defcells\n",
    "def num_in_force(t):\n",
    "    if t == 0:\n",
    "        return np.ones(10000)\n",
    "    elif t >= T:\n",
    "        return np.zeros(10000)\n",
    "    else:\n",
    "        return num_in_force(t-1) - num_deaths(t-1) - num_lapses(t-1)"
   ]
  },
  {
   "cell_type": "code",
   "execution_count": 11,
   "metadata": {},
   "outputs": [
    {
     "data": {
      "text/plain": [
       "array([50.32483076, 50.32483076, 50.32483076, ..., 50.32483076,\n",
       "       50.32483076, 50.32483076])"
      ]
     },
     "execution_count": 11,
     "metadata": {},
     "output_type": "execute_result"
    }
   ],
   "source": [
    "npv(net_cashflow, 10, 0.02)"
   ]
  },
  {
   "cell_type": "markdown",
   "metadata": {},
   "source": [
    "## Varying terms"
   ]
  },
  {
   "cell_type": "code",
   "execution_count": 12,
   "metadata": {},
   "outputs": [
    {
     "data": {
      "text/plain": [
       "array([10,  5, 10, ..., 10, 10, 10])"
      ]
     },
     "execution_count": 12,
     "metadata": {},
     "output_type": "execute_result"
    }
   ],
   "source": [
    "last_t = np.full(shape=10000, fill_value=10)\n",
    "\n",
    "last_t[1] = 5    # second policy\n",
    "\n",
    "last_t"
   ]
  },
  {
   "cell_type": "code",
   "execution_count": 13,
   "metadata": {},
   "outputs": [],
   "source": [
    "space.last_t = last_t"
   ]
  },
  {
   "cell_type": "code",
   "execution_count": 14,
   "metadata": {},
   "outputs": [],
   "source": [
    "@mx.defcells\n",
    "def num_maturities(t):\n",
    "    return (t == last_t) * (num_in_force(t-1) - num_deaths(t-1) - num_lapses(t-1))"
   ]
  },
  {
   "cell_type": "code",
   "execution_count": 15,
   "metadata": {},
   "outputs": [
    {
     "data": {
      "text/plain": [
       "array([0.        , 0.62008287, 0.        , ..., 0.        , 0.        ,\n",
       "       0.        ])"
      ]
     },
     "execution_count": 15,
     "metadata": {},
     "output_type": "execute_result"
    }
   ],
   "source": [
    "num_maturities(5)"
   ]
  },
  {
   "cell_type": "code",
   "execution_count": 16,
   "metadata": {},
   "outputs": [],
   "source": [
    "@mx.defcells\n",
    "def num_in_force(t):\n",
    "    if t == 0:\n",
    "        return np.ones(10000)\n",
    "    elif t >= T:\n",
    "        return np.zeros(10000)\n",
    "    else:\n",
    "        return num_in_force(t-1) - num_deaths(t-1) - num_lapses(t-1) - num_maturities(t)"
   ]
  },
  {
   "cell_type": "code",
   "execution_count": 17,
   "metadata": {},
   "outputs": [
    {
     "data": {
      "text/plain": [
       "array([0.62008287, 0.        , 0.62008287, ..., 0.62008287, 0.62008287,\n",
       "       0.62008287])"
      ]
     },
     "execution_count": 17,
     "metadata": {},
     "output_type": "execute_result"
    }
   ],
   "source": [
    "num_in_force(5)"
   ]
  },
  {
   "cell_type": "code",
   "execution_count": 18,
   "metadata": {},
   "outputs": [
    {
     "data": {
      "text/plain": [
       "array([-12.33964906,   0.        , -12.33964906, ..., -12.33964906,\n",
       "       -12.33964906, -12.33964906])"
      ]
     },
     "execution_count": 18,
     "metadata": {},
     "output_type": "execute_result"
    }
   ],
   "source": [
    "net_cashflow(6)"
   ]
  },
  {
   "cell_type": "code",
   "execution_count": 19,
   "metadata": {},
   "outputs": [
    {
     "data": {
      "text/plain": [
       "array([ 50.32483076, 158.53568283,  50.32483076, ...,  50.32483076,\n",
       "        50.32483076,  50.32483076])"
      ]
     },
     "execution_count": 19,
     "metadata": {},
     "output_type": "execute_result"
    }
   ],
   "source": [
    "npv(net_cashflow, 10, 0.02)"
   ]
  },
  {
   "cell_type": "markdown",
   "metadata": {},
   "source": [
    "## Deep recursion example"
   ]
  },
  {
   "cell_type": "code",
   "execution_count": 20,
   "metadata": {},
   "outputs": [],
   "source": [
    "@mx.defcells\n",
    "def recursive(t):\n",
    "    if t == 0:\n",
    "        return 0\n",
    "    else:\n",
    "        return recursive(t-1)"
   ]
  },
  {
   "cell_type": "code",
   "execution_count": 21,
   "metadata": {},
   "outputs": [
    {
     "data": {
      "text/plain": [
       "0"
      ]
     },
     "execution_count": 21,
     "metadata": {},
     "output_type": "execute_result"
    }
   ],
   "source": [
    "recursive(50000)"
   ]
  }
 ],
 "metadata": {
  "kernelspec": {
   "display_name": "Python 3",
   "language": "python",
   "name": "python3"
  },
  "language_info": {
   "codemirror_mode": {
    "name": "ipython",
    "version": 3
   },
   "file_extension": ".py",
   "mimetype": "text/x-python",
   "name": "python",
   "nbconvert_exporter": "python",
   "pygments_lexer": "ipython3",
   "version": "3.7.4"
  }
 },
 "nbformat": 4,
 "nbformat_minor": 2
}
