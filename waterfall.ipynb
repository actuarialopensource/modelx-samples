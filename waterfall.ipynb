{
 "cells": [
  {
   "cell_type": "code",
   "execution_count": 1,
   "metadata": {},
   "outputs": [],
   "source": [
    "# Modified from https://pbpython.com/waterfall-chart.html\n",
    "\n",
    "import matplotlib.pyplot as plt\n",
    "import pandas as pd\n",
    "import seaborn as sns\n",
    "sns.set()"
   ]
  },
  {
   "cell_type": "code",
   "execution_count": 2,
   "metadata": {},
   "outputs": [],
   "source": [
    "def draw_waterfall(df, ax=None, stocks=None, title=None):\n",
    "    \"\"\"Draws waterfall chart\n",
    "\n",
    "    Args:\n",
    "        df: Chart data as DataFrame.\n",
    "        ax(optional): Axes. The current axes is used by default.\n",
    "        stocks(optional): Column indexes (e.g. [0, 5]) indicating balance items. [0] by default.\n",
    "        title(optional): Graph title string.\n",
    "    \"\"\"\n",
    "    \n",
    "    if ax is None:\n",
    "        plt.figure()\n",
    "        ax = plt.gca()\n",
    "        \n",
    "    if stocks is None:\n",
    "        stocks = [0]\n",
    "\n",
    "    cols = len(df.columns)\n",
    "    cumsum = df.copy()\n",
    "    bottom = df.copy()\n",
    "    bottom.iloc[:,:] = 0\n",
    "\n",
    "    for c in range(cols):\n",
    "        if (c + 1) % cols in stocks:\n",
    "            cumsum.iloc[:, list(range(c + 1))] = 0\n",
    "            bottom.iloc[:, c] = 0\n",
    "        else:\n",
    "            bottom.iloc[:, c] = cumsum.cumsum(axis=1).iloc[:, c]\n",
    "\n",
    "    data = df.stack()\n",
    "    bottom = bottom.stack().shift(1, axis=0).fillna(0)\n",
    "\n",
    "    palette = WaterfallColorPalette(df)\n",
    "    xlabel = [idx[1] + '(' + str(idx[0]) + ')' for idx in df.stack().index]\n",
    "    ax = sns.barplot(data=[[i] for i in data], bottom=list(bottom),\n",
    "                     palette=palette.colors,\n",
    "                     ax=ax)\n",
    "    ax.set_xticklabels(labels=xlabel, rotation='vertical')\n",
    "    if title:\n",
    "        ax.set_title(title)\n",
    "    ax.get_figure().tight_layout()\n",
    "    return ax\n",
    "\n",
    "class WaterfallColorPalette:\n",
    "    \"\"\"Returns color palette for drawing waterfall bars\"\"\"\n",
    "    \n",
    "    def __init__(self, data, length=None):\n",
    "\n",
    "        self.data = data\n",
    "        if length is None:\n",
    "            self.length = len(data.columns)\n",
    "        else:\n",
    "            self.length = length\n",
    "\n",
    "        self.paired = plt.get_cmap('Paired').colors\n",
    "        self.colors = self.set_colors()\n",
    "\n",
    "    def set_colors(self):\n",
    "\n",
    "        result = []\n",
    "        row_count, _ = self.data.shape\n",
    "\n",
    "        for row in range(row_count):\n",
    "            for col in range(self.length):\n",
    "                sign = self.data.iloc[row, col] >= 0\n",
    "                result.append(self.get_color(col, sign))\n",
    "\n",
    "        return result\n",
    "\n",
    "    def get_color(self, idx, sign):\n",
    "        pair_count = len(self.paired) // 2\n",
    "        idx = 2 * (idx % pair_count)\n",
    "        return self.paired[idx + 1] if sign else self.paired[idx]"
   ]
  },
  {
   "cell_type": "code",
   "execution_count": 3,
   "metadata": {},
   "outputs": [
    {
     "data": {
      "text/html": [
       "<div>\n",
       "<style scoped>\n",
       "    .dataframe tbody tr th:only-of-type {\n",
       "        vertical-align: middle;\n",
       "    }\n",
       "\n",
       "    .dataframe tbody tr th {\n",
       "        vertical-align: top;\n",
       "    }\n",
       "\n",
       "    .dataframe thead th {\n",
       "        text-align: right;\n",
       "    }\n",
       "</style>\n",
       "<table border=\"1\" class=\"dataframe\">\n",
       "  <thead>\n",
       "    <tr style=\"text-align: right;\">\n",
       "      <th></th>\n",
       "      <th>Balance</th>\n",
       "      <th>Premiums</th>\n",
       "      <th>Claims</th>\n",
       "      <th>Expenses</th>\n",
       "    </tr>\n",
       "  </thead>\n",
       "  <tbody>\n",
       "    <tr>\n",
       "      <td>0</td>\n",
       "      <td>100</td>\n",
       "      <td>20</td>\n",
       "      <td>-10</td>\n",
       "      <td>-5</td>\n",
       "    </tr>\n",
       "    <tr>\n",
       "      <td>1</td>\n",
       "      <td>105</td>\n",
       "      <td>25</td>\n",
       "      <td>-15</td>\n",
       "      <td>-5</td>\n",
       "    </tr>\n",
       "    <tr>\n",
       "      <td>2</td>\n",
       "      <td>110</td>\n",
       "      <td>25</td>\n",
       "      <td>-15</td>\n",
       "      <td>-5</td>\n",
       "    </tr>\n",
       "  </tbody>\n",
       "</table>\n",
       "</div>"
      ],
      "text/plain": [
       "   Balance  Premiums  Claims  Expenses\n",
       "0      100        20     -10        -5\n",
       "1      105        25     -15        -5\n",
       "2      110        25     -15        -5"
      ]
     },
     "execution_count": 3,
     "metadata": {},
     "output_type": "execute_result"
    }
   ],
   "source": [
    "import numpy as np\n",
    "df = pd.DataFrame({\"Balance\": [100, 105, 110],\n",
    "                   \"Premiums\": [20, 25, 25],\n",
    "                   \"Claims\": [-10, -15, -15],\n",
    "                   \"Expenses\": [-5, -5, -5]})\n",
    "\n",
    "df"
   ]
  },
  {
   "cell_type": "code",
   "execution_count": 4,
   "metadata": {},
   "outputs": [
    {
     "data": {
      "text/plain": [
       "<matplotlib.axes._subplots.AxesSubplot at 0x1a0f94c60c8>"
      ]
     },
     "execution_count": 4,
     "metadata": {},
     "output_type": "execute_result"
    },
    {
     "data": {
      "image/png": "[encoded data removed]",
      "text/plain": [
       "<Figure size 432x288 with 1 Axes>"
      ]
     },
     "metadata": {
      "needs_background": "light"
     },
     "output_type": "display_data"
    }
   ],
   "source": [
    "draw_waterfall(df, title=\"Cashflows\")"
   ]
  }
 ],
 "metadata": {
  "kernelspec": {
   "display_name": "Python 3",
   "language": "python",
   "name": "python3"
  },
  "language_info": {
   "codemirror_mode": {
    "name": "ipython",
    "version": 3
   },
   "file_extension": ".py",
   "mimetype": "text/x-python",
   "name": "python",
   "nbconvert_exporter": "python",
   "pygments_lexer": "ipython3",
   "version": "3.7.4"
  }
 },
 "nbformat": 4,
 "nbformat_minor": 4
}
